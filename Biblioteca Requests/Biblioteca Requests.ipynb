{
 "cells": [
  {
   "cell_type": "code",
   "execution_count": 4,
   "id": "6065f761",
   "metadata": {},
   "outputs": [
    {
     "name": "stdout",
     "output_type": "stream",
     "text": [
      "<Response [200]>\n",
      "[None, {'Idade': 29, 'Nome': 'Hideki', 'Sobre nome': 'Nonaka'}, {'Idade': 24, 'Nome': 'Amanda', 'Sobrenome': 'Abreu'}]\n"
     ]
    }
   ],
   "source": [
    "#Anotação:\n",
    "\n",
    "#1.Acessar o site\"AwesomeApi´sGratuitas\"\n",
    "#2.Criar um banco de dados no \"firebase\",depois em 'criação'>'Realtime database'> 'Criar banco de dados'(Lembrando no link do banco de dados no final do link colocar .json)\n",
    "\n",
    "#Pegar Informação - GET\n",
    "\n",
    "import requests\n",
    "\n",
    "requisicao = requests.get(\"https://teste-de-requeste-default-rtdb.firebaseio.com/.json\")\n",
    "print(requisicao)\n",
    "print(requisicao.json())\n"
   ]
  },
  {
   "cell_type": "code",
   "execution_count": 18,
   "id": "d4d34bf4",
   "metadata": {},
   "outputs": [
    {
     "name": "stdout",
     "output_type": "stream",
     "text": [
      "<Response [200]>\n",
      "{'name': '-Mp4Voq_A-sO3AkQhtPo'}\n"
     ]
    }
   ],
   "source": [
    "#Criar informação - POST\n",
    "informacoes = '{\"Nome\":\"Ana\",\"Sobrenome\":\"Thomas\"}'\n",
    "requisicao = requests.post(\"https://teste-de-requeste-default-rtdb.firebaseio.com/.json\",data=informacoes)\n",
    "print(requisicao)\n",
    "print(requisicao.json())"
   ]
  },
  {
   "cell_type": "code",
   "execution_count": 19,
   "id": "13894303",
   "metadata": {},
   "outputs": [
    {
     "name": "stdout",
     "output_type": "stream",
     "text": [
      "<Response [200]>\n",
      "{'Nome': 'Maria'}\n"
     ]
    }
   ],
   "source": [
    "#Editar informação - PATCH\n",
    "#Para atualizar o dados clicar na celula e copiar o link.\n",
    "\n",
    "informacoes = '{\"Nome\":\"Maria\"}'\n",
    "requisicao = requests.patch(\"https://teste-de-requeste-default-rtdb.firebaseio.com/-Mp4Voq_A-sO3AkQhtPo.json\",data=informacoes)\n",
    "print(requisicao)\n",
    "print(requisicao.json())"
   ]
  },
  {
   "cell_type": "code",
   "execution_count": 16,
   "id": "b8f3023e",
   "metadata": {},
   "outputs": [
    {
     "name": "stdout",
     "output_type": "stream",
     "text": [
      "<Response [200]>\n",
      "None\n"
     ]
    }
   ],
   "source": [
    "#Deletar informação - DELETE\n",
    "\n",
    "informacoes = '{\"Nome\":\"Edu\",\"Sobrenome\":\"Silverio\"}'\n",
    "requisicao = requests.delete(\"https://teste-de-requeste-default-rtdb.firebaseio.com/.json\")\n",
    "print(requisicao)\n",
    "print(requisicao.json())"
   ]
  },
  {
   "cell_type": "code",
   "execution_count": null,
   "id": "8e1d8467",
   "metadata": {},
   "outputs": [],
   "source": []
  }
 ],
 "metadata": {
  "kernelspec": {
   "display_name": "Python 3 (ipykernel)",
   "language": "python",
   "name": "python3"
  },
  "language_info": {
   "codemirror_mode": {
    "name": "ipython",
    "version": 3
   },
   "file_extension": ".py",
   "mimetype": "text/x-python",
   "name": "python",
   "nbconvert_exporter": "python",
   "pygments_lexer": "ipython3",
   "version": "3.8.11"
  }
 },
 "nbformat": 4,
 "nbformat_minor": 5
}
